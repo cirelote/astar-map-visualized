{
 "cells": [
  {
   "cell_type": "code",
   "execution_count": null,
   "metadata": {},
   "outputs": [
    {
     "name": "stderr",
     "output_type": "stream",
     "text": [
      "/tmp/ipykernel_9315/1162934009.py:7: FutureWarning: The `utils.config` function is deprecated and will be removed in the v2.0.0 release. Instead, use the `settings` module directly to configure a global setting's value. For example, `ox.settings.log_console=True`. See the OSMnx v2 migration guide: https://github.com/gboeing/osmnx/issues/1123\n",
      "  ox.config(use_cache=True, log_console=True, cache_folder='../cache')\n"
     ]
    }
   ],
   "source": [
    "import osmnx as ox\n",
    "import networkx as nx\n",
    "import heapq\n",
    "import json\n",
    "import os\n",
    "\n",
    "ox.config(use_cache=True, log_console=True, cache_folder='../../cache')\n",
    "\n",
    "OUTPUT_DIR = '../../data'"
   ]
  },
  {
   "cell_type": "markdown",
   "metadata": {},
   "source": [
    "# AStarSolver"
   ]
  },
  {
   "cell_type": "code",
   "execution_count": 2,
   "metadata": {},
   "outputs": [],
   "source": [
    "class AStarSolver:\n",
    "    def __init__(self, graph):\n",
    "        self.graph = graph\n",
    "\n",
    "    def heuristic(self, u, v):\n",
    "        \"\"\"\n",
    "        Calculate the heuristic value between two nodes using the great-circle distance.\n",
    "        \"\"\"\n",
    "        u_lat, u_lon = self.graph.nodes[u]['y'], self.graph.nodes[u]['x']\n",
    "        v_lat, v_lon = self.graph.nodes[v]['y'], self.graph.nodes[v]['x']\n",
    "        return ox.distance.great_circle(u_lat, u_lon, v_lat, v_lon)\n",
    "\n",
    "    def astar_search(self, start, goal):\n",
    "        \"\"\"\n",
    "        Perform the A* search algorithm from start to goal node.\n",
    "        \"\"\"\n",
    "        open_set = []\n",
    "        heapq.heappush(open_set, (0, start))\n",
    "        came_from = {}\n",
    "        g_score = {node: float('inf') for node in self.graph.nodes}\n",
    "        g_score[start] = 0\n",
    "        f_score = {node: float('inf') for node in self.graph.nodes}\n",
    "        f_score[start] = self.heuristic(start, goal)\n",
    "        open_set_hash = {start}\n",
    "\n",
    "        steps = []\n",
    "\n",
    "        while open_set:\n",
    "            current_f, current = heapq.heappop(open_set)\n",
    "            open_set_hash.remove(current)\n",
    "            steps.append({\n",
    "                'current_node': current,\n",
    "                'f_score': current_f,\n",
    "                'g_score': g_score[current],\n",
    "                'neighbors': list(self.graph.neighbors(current)),\n",
    "            })\n",
    "\n",
    "            if current == goal:\n",
    "                path = []\n",
    "                while current in came_from:\n",
    "                    path.append(current)\n",
    "                    current = came_from[current]\n",
    "                path.append(start)\n",
    "                path.reverse()\n",
    "                return path, steps\n",
    "\n",
    "            for neighbor in self.graph.neighbors(current):\n",
    "                edge_data = self.graph.get_edge_data(current, neighbor)\n",
    "                min_edge_length = min(\n",
    "                    data.get('length', self.heuristic(current, neighbor))\n",
    "                    for data in (edge_data.values() if isinstance(edge_data, dict) else [edge_data])\n",
    "                )\n",
    "\n",
    "                tentative_g_score = g_score[current] + min_edge_length\n",
    "                if tentative_g_score < g_score[neighbor]:\n",
    "                    came_from[neighbor] = current\n",
    "                    g_score[neighbor] = tentative_g_score\n",
    "                    heuristic_value = self.heuristic(neighbor, goal)\n",
    "                    f_score[neighbor] = g_score[neighbor] + heuristic_value\n",
    "\n",
    "                    if neighbor not in open_set_hash:\n",
    "                        heapq.heappush(open_set, (f_score[neighbor], neighbor))\n",
    "                        open_set_hash.add(neighbor)\n",
    "\n",
    "        return None, steps"
   ]
  },
  {
   "cell_type": "markdown",
   "metadata": {},
   "source": [
    "# Path resolver"
   ]
  },
  {
   "cell_type": "markdown",
   "metadata": {},
   "source": [
    "## Download graph"
   ]
  },
  {
   "cell_type": "code",
   "execution_count": 16,
   "metadata": {},
   "outputs": [
    {
     "name": "stderr",
     "output_type": "stream",
     "text": [
      "/home/blutsenko/vscode/astar-map-visualized/.venv/lib/python3.10/site-packages/osmnx/graph.py:191: FutureWarning: The expected order of coordinates in `bbox` will change in the v2.0.0 release to `(left, bottom, right, top)`.\n",
      "  G = graph_from_bbox(\n"
     ]
    }
   ],
   "source": [
    "graph = ox.graph_from_point((50.444482, 30.449471), network_type='drive', dist=10000, simplify=False)"
   ]
  },
  {
   "cell_type": "markdown",
   "metadata": {},
   "source": [
    "## Define start and end points"
   ]
  },
  {
   "cell_type": "code",
   "execution_count": 17,
   "metadata": {},
   "outputs": [
    {
     "data": {
      "text/plain": [
       "(6049114772, 347862570)"
      ]
     },
     "execution_count": 17,
     "metadata": {},
     "output_type": "execute_result"
    }
   ],
   "source": [
    "start_point = (50.449507, 30.450145)\n",
    "end_point = (50.466327, 30.524171)\n",
    "\n",
    "start_node = ox.distance.nearest_nodes(graph, start_point[1], start_point[0])\n",
    "end_node = ox.distance.nearest_nodes(graph, end_point[1], end_point[0])\n",
    "\n",
    "(start_node, end_node)"
   ]
  },
  {
   "cell_type": "markdown",
   "metadata": {},
   "source": [
    "## Find path"
   ]
  },
  {
   "cell_type": "code",
   "execution_count": 18,
   "metadata": {},
   "outputs": [
    {
     "name": "stdout",
     "output_type": "stream",
     "text": [
      "Running A* algorithm...\n",
      "Path found.\n"
     ]
    }
   ],
   "source": [
    "solver = AStarSolver(graph)\n",
    "print(\"Running A* algorithm...\")\n",
    "path, steps = solver.astar_search(start_node, end_node)\n",
    "if path is None:\n",
    "    print(\"No path found.\")\n",
    "    exit()\n",
    "print(\"Path found.\")"
   ]
  },
  {
   "cell_type": "markdown",
   "metadata": {},
   "source": [
    "# Save results"
   ]
  },
  {
   "cell_type": "code",
   "execution_count": 19,
   "metadata": {},
   "outputs": [
    {
     "name": "stdout",
     "output_type": "stream",
     "text": [
      "Saving steps to '../../data/astar_steps.json'...\n",
      "Steps saved.\n",
      "Saving path to '../../data/astar_path.json'...\n",
      "Path saved.\n",
      "Saving graph data to '../../data/graph_nodes_edges.json'...\n",
      "Graph data saved.\n"
     ]
    }
   ],
   "source": [
    "if not os.path.exists(OUTPUT_DIR):\n",
    "    os.makedirs(OUTPUT_DIR)\n",
    "\n",
    "print(f\"Saving steps to '{OUTPUT_DIR}/astar_steps.json'...\")\n",
    "with open(f'{OUTPUT_DIR}/astar_steps.json', 'w') as f:\n",
    "    json.dump(steps, f)\n",
    "print(\"Steps saved.\")\n",
    "\n",
    "print(f\"Saving path to '{OUTPUT_DIR}/astar_path.json'...\")\n",
    "with open(f'{OUTPUT_DIR}/astar_path.json', 'w') as f:\n",
    "    json.dump(path, f)\n",
    "print(\"Path saved.\")\n",
    "\n",
    "print(f\"Saving graph data to '{OUTPUT_DIR}/graph_nodes_edges.json'...\")\n",
    "nodes = [{'id': node, 'x': data['x'], 'y': data['y']} for node, data in graph.nodes(data=True)]\n",
    "edges = [{'source': u, 'target': v, 'length': min(\n",
    "            data.get('length', 1) for data in graph.get_edge_data(u, v).values()\n",
    "        )} for u, v in graph.edges()]\n",
    "with open(f'{OUTPUT_DIR}/graph_nodes_edges.json', 'w') as f:\n",
    "    json.dump({'nodes': nodes, 'edges': edges}, f)\n",
    "print(\"Graph data saved.\")"
   ]
  }
 ],
 "metadata": {
  "kernelspec": {
   "display_name": ".venv",
   "language": "python",
   "name": "python3"
  },
  "language_info": {
   "codemirror_mode": {
    "name": "ipython",
    "version": 3
   },
   "file_extension": ".py",
   "mimetype": "text/x-python",
   "name": "python",
   "nbconvert_exporter": "python",
   "pygments_lexer": "ipython3",
   "version": "3.10.6"
  }
 },
 "nbformat": 4,
 "nbformat_minor": 2
}
